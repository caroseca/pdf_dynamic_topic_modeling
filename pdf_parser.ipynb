{
 "cells": [
  {
   "cell_type": "markdown",
   "metadata": {},
   "source": [
    "# Parse PDFs\n"
   ]
  },
  {
   "cell_type": "markdown",
   "metadata": {},
   "source": [
    "### Sources\n",
    "https://github.com/chrismattmann/tika-python"
   ]
  },
  {
   "cell_type": "code",
   "execution_count": 6,
   "metadata": {},
   "outputs": [
    {
     "name": "stdout",
     "output_type": "stream",
     "text": [
      "Requirement already satisfied: tika in c:\\users\\akio\\anaconda3\\lib\\site-packages (1.19)\n",
      "Requirement already satisfied: setuptools in c:\\users\\akio\\anaconda3\\lib\\site-packages (from tika) (40.6.3)\n",
      "Requirement already satisfied: requests in c:\\users\\akio\\anaconda3\\lib\\site-packages (from tika) (2.21.0)\n",
      "Requirement already satisfied: chardet<3.1.0,>=3.0.2 in c:\\users\\akio\\anaconda3\\lib\\site-packages (from requests->tika) (3.0.4)\n",
      "Requirement already satisfied: certifi>=2017.4.17 in c:\\users\\akio\\anaconda3\\lib\\site-packages (from requests->tika) (2018.11.29)\n",
      "Requirement already satisfied: idna<2.9,>=2.5 in c:\\users\\akio\\anaconda3\\lib\\site-packages (from requests->tika) (2.8)\n",
      "Requirement already satisfied: urllib3<1.25,>=1.21.1 in c:\\users\\akio\\anaconda3\\lib\\site-packages (from requests->tika) (1.24.1)\n"
     ]
    }
   ],
   "source": [
    "# required for parsing pdf. Make sure you have java installed  \n",
    "!pip install tika"
   ]
  },
  {
   "cell_type": "code",
   "execution_count": 1,
   "metadata": {},
   "outputs": [],
   "source": [
    "from collections import Counter\n",
    "import csv\n",
    "import numpy as np\n",
    "import os\n",
    "import pickle\n",
    "from tika import parser\n",
    "import time"
   ]
  },
  {
   "cell_type": "code",
   "execution_count": 6,
   "metadata": {},
   "outputs": [
    {
     "name": "stdout",
     "output_type": "stream",
     "text": [
      "WDR-2018-EN-LR.pdf\n",
      "using raw pdf\n"
     ]
    },
    {
     "name": "stderr",
     "output_type": "stream",
     "text": [
      "2019-04-02 22:47:30,868 [MainThread  ] [INFO ]  Retrieving http://search.maven.org/remotecontent?filepath=org/apache/tika/tika-server/1.19/tika-server-1.19.jar to C:\\Users\\akiok\\AppData\\Local\\Temp\\tika-server.jar.\n",
      "2019-04-02 22:50:27,187 [MainThread  ] [INFO ]  Retrieving http://search.maven.org/remotecontent?filepath=org/apache/tika/tika-server/1.19/tika-server-1.19.jar.md5 to C:\\Users\\akiok\\AppData\\Local\\Temp\\tika-server.jar.md5.\n",
      "2019-04-02 22:50:27,676 [MainThread  ] [WARNI]  Failed to see startup log message; retrying...\n"
     ]
    },
    {
     "name": "stdout",
     "output_type": "stream",
     "text": [
      "Wall time: 3min 39s\n"
     ]
    }
   ],
   "source": [
    "%%time\n",
    "\n",
    "\"\"\"\n",
    "Converts PDFs to .txt files in the directory \"data/\"\n",
    "and saves the output to the \"txt\" directory\n",
    "\n",
    "Reads in all files in 'data' directory, if a PDF,\n",
    "then continues, otherwise, escapes. \n",
    "\n",
    "\n",
    "Parameters\n",
    "----------\n",
    "None\n",
    "\n",
    "\n",
    "Returns\n",
    "-------\n",
    "Nothing\n",
    "\n",
    "\"\"\"\n",
    "\n",
    "output_list = []\n",
    "path = \"data/\"\n",
    "dirs = os.listdir(path)\n",
    "for each_pdf in dirs:\n",
    "    print(each_pdf)\n",
    "    try:\n",
    "        raw = parser.from_file('data/{}'.format(each_pdf))\n",
    "        with open('txt/{}.txt'.format(str(each_pdf)), 'wb') as f:\n",
    "            f.write(raw['content'].encode(\"utf-8\"))\n",
    "    except: print('not a PDF')"
   ]
  }
 ],
 "metadata": {
  "kernelspec": {
   "display_name": "Python 3",
   "language": "python",
   "name": "python3"
  },
  "language_info": {
   "codemirror_mode": {
    "name": "ipython",
    "version": 3
   },
   "file_extension": ".py",
   "mimetype": "text/x-python",
   "name": "python",
   "nbconvert_exporter": "python",
   "pygments_lexer": "ipython3",
   "version": "3.6.5"
  }
 },
 "nbformat": 4,
 "nbformat_minor": 2
}
